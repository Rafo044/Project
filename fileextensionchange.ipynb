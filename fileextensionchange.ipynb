{
 "cells": [
  {
   "attachments": {},
   "cell_type": "markdown",
   "metadata": {},
   "source": [
    "File extension change.Input file path and extension."
   ]
  },
  {
   "cell_type": "code",
   "execution_count": 4,
   "metadata": {},
   "outputs": [],
   "source": [
    "\n",
    "import os\n",
    "extension2 = input(\"Extension : \")\n",
    "def remove_trailing_whitespace(directory):\n",
    "    for root, directories, files in os.walk(directory, topdown=False):\n",
    "        # Change folder name\n",
    "        for folder in directories:\n",
    "            folder_path = os.path.join(root, folder)\n",
    "            new_name = folder.rsplit(' ', 1)[0]  # Special split\n",
    "            new_folder_path = os.path.join(root, new_name)\n",
    "            os.rename(folder_path, new_folder_path)\n",
    "        \n",
    "        # Change file name\n",
    "        for file in files:\n",
    "            file_path = os.path.join(root, file)\n",
    "            name, extension = os.path.splitext(file)\n",
    "            new_name = name.rsplit(' ', 1)[0]  # Special split\n",
    "            new_file_path = os.path.join(root, new_name + extension2)\n",
    "            os.rename(file_path, new_file_path)\n",
    "\n",
    "if __name__ == \"__main__\":\n",
    "    folder_path = input(\"Input folder path : \")  #Folder path\n",
    "    remove_trailing_whitespace(folder_path)"
   ]
  }
 ],
 "metadata": {
  "kernelspec": {
   "display_name": "Python 3",
   "language": "python",
   "name": "python3"
  },
  "language_info": {
   "codemirror_mode": {
    "name": "ipython",
    "version": 3
   },
   "file_extension": ".py",
   "mimetype": "text/x-python",
   "name": "python",
   "nbconvert_exporter": "python",
   "pygments_lexer": "ipython3",
   "version": "3.11.4"
  },
  "orig_nbformat": 4
 },
 "nbformat": 4,
 "nbformat_minor": 2
}
