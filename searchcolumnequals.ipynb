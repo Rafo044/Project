{
 "cells": [
  {
   "cell_type": "code",
   "execution_count": 19,
   "metadata": {},
   "outputs": [
    {
     "name": "stdout",
     "output_type": "stream",
     "text": [
      "   sutun1  sutun2  sutun3\n",
      "0       1      10      10\n",
      "1       2      20      20\n",
      "2       3      30      30\n",
      "3       4      40      40\n",
      "4       5      50      50\n"
     ]
    }
   ],
   "source": [
    "import pandas as pd\n",
    "data = {     'sutun1': [1, 2, 3, 4, 5],     'sutun2': [10, 20, 30, 40, 50] }  \n",
    "df = pd.DataFrame(data)  # 'sütun1' sütununun hər bir elementinin 'sütun2' sütunundakı qarşılığını tapmaq\n",
    "df['sutun3'] = df['sutun1'].apply(lambda x: df.loc[df['sutun1'] == x, 'sutun2'].iloc[0]) \n",
    "print(df)"
   ]
  },
  {
   "cell_type": "code",
   "execution_count": 49,
   "metadata": {},
   "outputs": [
    {
     "data": {
      "text/plain": [
       "4"
      ]
     },
     "execution_count": 49,
     "metadata": {},
     "output_type": "execute_result"
    }
   ],
   "source": [
    "x = int(input(\"daxil et :\"))\n",
    "indeks = df.loc[df[\"sutun2\"]==40].index[0]\n",
    "df.at[indeks,\"sutun1\"]"
   ]
  },
  {
   "cell_type": "code",
   "execution_count": null,
   "metadata": {},
   "outputs": [],
   "source": []
  }
 ],
 "metadata": {
  "kernelspec": {
   "display_name": "Python 3",
   "language": "python",
   "name": "python3"
  },
  "language_info": {
   "codemirror_mode": {
    "name": "ipython",
    "version": 3
   },
   "file_extension": ".py",
   "mimetype": "text/x-python",
   "name": "python",
   "nbconvert_exporter": "python",
   "pygments_lexer": "ipython3",
   "version": "3.11.4"
  },
  "orig_nbformat": 4
 },
 "nbformat": 4,
 "nbformat_minor": 2
}
